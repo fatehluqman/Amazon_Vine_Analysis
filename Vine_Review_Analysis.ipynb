{
 "cells": [
  {
   "cell_type": "code",
   "execution_count": 1,
   "metadata": {
    "colab": {
     "base_uri": "https://localhost:8080/"
    },
    "id": "ahpoGtjpg3-L",
    "outputId": "202e9e7d-614c-4b71-e110-bb9f657a9a47"
   },
   "outputs": [
    {
     "name": "stdout",
     "output_type": "stream",
     "text": [
      "\r",
      "0% [Working]\r",
      "            \r",
      "Ign:1 https://developer.download.nvidia.com/compute/cuda/repos/ubuntu1804/x86_64  InRelease\n",
      "Ign:2 https://developer.download.nvidia.com/compute/machine-learning/repos/ubuntu1804/x86_64  InRelease\n",
      "Hit:3 https://developer.download.nvidia.com/compute/cuda/repos/ubuntu1804/x86_64  Release\n",
      "Get:4 http://security.ubuntu.com/ubuntu bionic-security InRelease [88.7 kB]\n",
      "Hit:5 https://developer.download.nvidia.com/compute/machine-learning/repos/ubuntu1804/x86_64  Release\n",
      "Get:6 https://cloud.r-project.org/bin/linux/ubuntu bionic-cran40/ InRelease [3,626 B]\n",
      "Get:7 http://ppa.launchpad.net/c2d4u.team/c2d4u4.0+/ubuntu bionic InRelease [15.9 kB]\n",
      "Hit:8 http://archive.ubuntu.com/ubuntu bionic InRelease\n",
      "Get:10 http://archive.ubuntu.com/ubuntu bionic-updates InRelease [88.7 kB]\n",
      "Hit:11 http://ppa.launchpad.net/cran/libgit2/ubuntu bionic InRelease\n",
      "Get:13 http://ppa.launchpad.net/deadsnakes/ppa/ubuntu bionic InRelease [15.9 kB]\n",
      "Get:14 http://archive.ubuntu.com/ubuntu bionic-backports InRelease [74.6 kB]\n",
      "Hit:15 http://ppa.launchpad.net/graphics-drivers/ppa/ubuntu bionic InRelease\n",
      "Get:16 http://security.ubuntu.com/ubuntu bionic-security/main amd64 Packages [2,365 kB]\n",
      "Get:17 http://ppa.launchpad.net/c2d4u.team/c2d4u4.0+/ubuntu bionic/main Sources [1,802 kB]\n",
      "Get:18 http://security.ubuntu.com/ubuntu bionic-security/universe amd64 Packages [1,431 kB]\n",
      "Get:19 http://archive.ubuntu.com/ubuntu bionic-updates/universe amd64 Packages [2,210 kB]\n",
      "Get:20 http://ppa.launchpad.net/c2d4u.team/c2d4u4.0+/ubuntu bionic/main amd64 Packages [922 kB]\n",
      "Get:21 http://archive.ubuntu.com/ubuntu bionic-updates/main amd64 Packages [2,801 kB]\n",
      "Get:22 http://ppa.launchpad.net/deadsnakes/ppa/ubuntu bionic/main amd64 Packages [40.8 kB]\n",
      "Fetched 11.9 MB in 4s (2,651 kB/s)\n",
      "Reading package lists... Done\n"
     ]
    }
   ],
   "source": [
    "import os\n",
    "# Find the latest version of spark 3.0 from http://www.apache.org/dist/spark/ and enter as the spark version\n",
    "# For example:\n",
    "# spark_version = 'spark-3.0.3'\n",
    "spark_version = 'spark-3.0.3'\n",
    "os.environ['SPARK_VERSION']=spark_version\n",
    "\n",
    "# Install Spark and Java\n",
    "!apt-get update\n",
    "!apt-get install openjdk-11-jdk-headless -qq > /dev/null\n",
    "!wget -q http://www.apache.org/dist/spark/$SPARK_VERSION/$SPARK_VERSION-bin-hadoop2.7.tgz\n",
    "!tar xf $SPARK_VERSION-bin-hadoop2.7.tgz\n",
    "!pip install -q findspark\n",
    "\n",
    "# Set Environment Variables\n",
    "import os\n",
    "os.environ[\"JAVA_HOME\"] = \"/usr/lib/jvm/java-11-openjdk-amd64\"\n",
    "os.environ[\"SPARK_HOME\"] = f\"/content/{spark_version}-bin-hadoop2.7\"\n",
    "\n",
    "# Start a SparkSession\n",
    "import findspark\n",
    "findspark.init()"
   ]
  },
  {
   "cell_type": "code",
   "execution_count": 2,
   "metadata": {
    "colab": {
     "base_uri": "https://localhost:8080/"
    },
    "id": "eq0MyXqIg-__",
    "outputId": "75861897-59d6-47cd-ddf0-5c8ec43081f7"
   },
   "outputs": [
    {
     "name": "stdout",
     "output_type": "stream",
     "text": [
      "--2021-10-10 19:06:15--  https://jdbc.postgresql.org/download/postgresql-42.2.16.jar\n",
      "Resolving jdbc.postgresql.org (jdbc.postgresql.org)... 72.32.157.228, 2001:4800:3e1:1::228\n",
      "Connecting to jdbc.postgresql.org (jdbc.postgresql.org)|72.32.157.228|:443... connected.\n",
      "HTTP request sent, awaiting response... 200 OK\n",
      "Length: 1002883 (979K) [application/java-archive]\n",
      "Saving to: ‘postgresql-42.2.16.jar’\n",
      "\n",
      "postgresql-42.2.16. 100%[===================>] 979.38K  2.40MB/s    in 0.4s    \n",
      "\n",
      "2021-10-10 19:06:16 (2.40 MB/s) - ‘postgresql-42.2.16.jar’ saved [1002883/1002883]\n",
      "\n"
     ]
    }
   ],
   "source": [
    "# Download the Postgres driver that will allow Spark to interact with Postgres.\n",
    "!wget https://jdbc.postgresql.org/download/postgresql-42.2.16.jar"
   ]
  },
  {
   "cell_type": "code",
   "execution_count": 3,
   "metadata": {
    "id": "4KjpIHC3hAyG"
   },
   "outputs": [],
   "source": [
    "from pyspark.sql import SparkSession\n",
    "spark = SparkSession.builder.appName(\"M16-Amazon-Challenge\").config(\"spark.driver.extraClassPath\",\"/content/postgresql-42.2.16.jar\").getOrCreate()"
   ]
  },
  {
   "cell_type": "code",
   "execution_count": 4,
   "metadata": {
    "colab": {
     "base_uri": "https://localhost:8080/"
    },
    "id": "NnWaySVchC4W",
    "outputId": "d283e64c-99f5-41f1-8b7c-de0cf697e87e"
   },
   "outputs": [
    {
     "name": "stdout",
     "output_type": "stream",
     "text": [
      "+-----------+-----------+--------------+----------+--------------+--------------------+----------------+-----------+-------------+-----------+----+-----------------+--------------------+--------------------+-----------+\n",
      "|marketplace|customer_id|     review_id|product_id|product_parent|       product_title|product_category|star_rating|helpful_votes|total_votes|vine|verified_purchase|     review_headline|         review_body|review_date|\n",
      "+-----------+-----------+--------------+----------+--------------+--------------------+----------------+-----------+-------------+-----------+----+-----------------+--------------------+--------------------+-----------+\n",
      "|         US|   48945260|R1WBPB8MDCCN8F|B012P7UPSM|     409940130|Chicago Blackhawk...|          Sports|          5|            0|          0|   N|                N|   LOVE IT. 6 stars!|Bought this last ...| 2015-08-31|\n",
      "|         US|    5782091|R32M0YEWV77XG8|B001GQ3VHG|     657746679|Copag Poker Size ...|          Sports|          5|            1|          1|   N|                Y|       Shipped fast.|These are the bes...| 2015-08-31|\n",
      "|         US|   45813853| RR8V7WR27NXJ5|B008VS8M58|     962442336|Baoer 223 5.56x45...|          Sports|          1|            0|          0|   N|                Y|Good idea if it w...|It looks good, th...| 2015-08-31|\n",
      "|         US|    1593730|R1MHO5V9Z932AY|B005F06F4U|      74305227|All Terrain Tackl...|          Sports|          5|            0|          0|   N|                Y|          Five Stars|           Great jig| 2015-08-31|\n",
      "|         US|   29605511|R16PD71086BD2V|B010T4IE2C|     787185588|Swim Cap - 3 Pack...|          Sports|          5|            0|          1|   N|                N|Great quality sil...|I love swimming i...| 2015-08-31|\n",
      "|         US|   11112959|R1Z8IFGWTRWXT6|B004RKJGLS|      94127483|adidas Men's Spor...|          Sports|          3|            0|          0|   N|                Y|Love everything a...|Love everything a...| 2015-08-31|\n",
      "|         US|     108031|R3AUMSHAW73HWN|B005V3DCBU|     526977496|Nike Men's Perfor...|          Sports|          4|            2|          3|   N|                N|          Four Stars|not the best sock...| 2015-08-31|\n",
      "|         US|   13981540|R2KWDWFOHGX6FL|B00MHT9WN8|      26521265|Green Bay Packers...|          Sports|          5|            0|          0|   N|                Y|          Five Stars|             Love it| 2015-08-31|\n",
      "|         US|   37993909|R3H9543FWBWFBU|B001CSIRQ8|     652431165|Isokinetics Inc. ...|          Sports|          5|            1|          1|   N|                Y|can't wait to use it|Unfortunately I h...| 2015-08-31|\n",
      "|         US|   26040213| RUANXOQ9W3OU5|B001KZ3NOO|     635861713|Aottop Quality El...|          Sports|          5|            0|          0|   N|                Y|great product, ac...|fast shipping , g...| 2015-08-31|\n",
      "|         US|   34657602|R31673RTGEZSW7|B00005RCQS|      72099763|Everlast 2'x6' Fo...|          Sports|          5|            2|          2|   N|                Y|this mat is a pre...|If you have a ter...| 2015-08-31|\n",
      "|         US|   14346192|R22OQLFSH42RCM|B00FA7RWVI|     757354022|OGIO Men's Shredd...|          Sports|          5|            1|          1|   N|                Y|  Versatile Golf Bag|Love this golf ba...| 2015-08-31|\n",
      "|         US|   38782687|R12LEL4F3TSZUJ|B000MMH2HU|     272402599|Blue Sea Systems ...|          Sports|          5|            2|          2|   N|                Y|Great AC Main Bre...|Perfect mounting ...| 2015-08-31|\n",
      "|         US|   27138575|R2L9XWD03072NI|B00WJOATDS|     375070208|Zengi AR15 45 Deg...|          Sports|          5|            1|          2|   N|                Y|   Nice, some quirks|For the cost you ...| 2015-08-31|\n",
      "|         US|   11838771|R2K0U91HIACANO|B00BOM2JNY|     639666785|Black Mountain Pr...|          Sports|          5|            0|          0|   N|                N|55 cm - Good qual...|The ball is very ...| 2015-08-31|\n",
      "|         US|     535800|R29SP6MBT7MXG7|B00OD5GAFM|      38715442|Trijicon VCOG 1-6...|          Sports|          4|            3|          3|   N|                Y|    Very nice scope.|Very nice scope.....| 2015-08-31|\n",
      "|         US|   23156579|R31XREAAMATEPY|B00CAHDC1K|      57088652|Naruto Headband f...|          Sports|          5|            0|          0|   N|                Y|was for my son an...|           This item| 2015-08-31|\n",
      "|         US|   48107879|R2116AVB87SO38|B004NLHXLG|     114125984|Under Armour Men'...|          Sports|          5|            0|          0|   N|                Y|          Five Stars|greatest socks i ...| 2015-08-31|\n",
      "|         US|   27260960|R3RDVBB6O0X3HW|B00L7OANWI|     883962979|Yes4All Deep Tiss...|          Sports|          5|            0|          0|   N|                Y|          Five Stars|Perfect for home ...| 2015-08-31|\n",
      "|         US|   39537314|R3LW5T149LKKQM|B0085PPSIQ|     691479969|Lansky PS-MED01 B...|          Sports|          4|            0|          0|   N|                Y|A bit heavy for p...|Very good product...| 2015-08-31|\n",
      "+-----------+-----------+--------------+----------+--------------+--------------------+----------------+-----------+-------------+-----------+----+-----------------+--------------------+--------------------+-----------+\n",
      "only showing top 20 rows\n",
      "\n"
     ]
    }
   ],
   "source": [
    "from pyspark import SparkFiles\n",
    "url = \"https://s3.amazonaws.com/amazon-reviews-pds/tsv/amazon_reviews_us_Sports_v1_00.tsv.gz\"\n",
    "spark.sparkContext.addFile(url)\n",
    "df = spark.read.option(\"encoding\", \"UTF-8\").csv(SparkFiles.get(\"\"), sep=\"\\t\", header=True, inferSchema=True)\n",
    "df.show()"
   ]
  },
  {
   "cell_type": "code",
   "execution_count": 5,
   "metadata": {
    "colab": {
     "base_uri": "https://localhost:8080/"
    },
    "id": "8rr0pFEFhDc6",
    "outputId": "0541448c-d4eb-4952-eb40-4c8c8bcd68aa"
   },
   "outputs": [
    {
     "name": "stdout",
     "output_type": "stream",
     "text": [
      "+-----------+-----------+--------------+----------+--------------+--------------------+----------------+-----------+-------------+-----------+----+-----------------+--------------------+--------------------+-----------+\n",
      "|marketplace|customer_id|     review_id|product_id|product_parent|       product_title|product_category|star_rating|helpful_votes|total_votes|vine|verified_purchase|     review_headline|         review_body|review_date|\n",
      "+-----------+-----------+--------------+----------+--------------+--------------------+----------------+-----------+-------------+-----------+----+-----------------+--------------------+--------------------+-----------+\n",
      "|         US|   48945260|R1WBPB8MDCCN8F|B012P7UPSM|     409940130|Chicago Blackhawk...|          Sports|          5|            0|          0|   N|                N|   LOVE IT. 6 stars!|Bought this last ...| 2015-08-31|\n",
      "|         US|    5782091|R32M0YEWV77XG8|B001GQ3VHG|     657746679|Copag Poker Size ...|          Sports|          5|            1|          1|   N|                Y|       Shipped fast.|These are the bes...| 2015-08-31|\n",
      "|         US|   45813853| RR8V7WR27NXJ5|B008VS8M58|     962442336|Baoer 223 5.56x45...|          Sports|          1|            0|          0|   N|                Y|Good idea if it w...|It looks good, th...| 2015-08-31|\n",
      "|         US|    1593730|R1MHO5V9Z932AY|B005F06F4U|      74305227|All Terrain Tackl...|          Sports|          5|            0|          0|   N|                Y|          Five Stars|           Great jig| 2015-08-31|\n",
      "|         US|   29605511|R16PD71086BD2V|B010T4IE2C|     787185588|Swim Cap - 3 Pack...|          Sports|          5|            0|          1|   N|                N|Great quality sil...|I love swimming i...| 2015-08-31|\n",
      "|         US|   11112959|R1Z8IFGWTRWXT6|B004RKJGLS|      94127483|adidas Men's Spor...|          Sports|          3|            0|          0|   N|                Y|Love everything a...|Love everything a...| 2015-08-31|\n",
      "|         US|     108031|R3AUMSHAW73HWN|B005V3DCBU|     526977496|Nike Men's Perfor...|          Sports|          4|            2|          3|   N|                N|          Four Stars|not the best sock...| 2015-08-31|\n",
      "|         US|   13981540|R2KWDWFOHGX6FL|B00MHT9WN8|      26521265|Green Bay Packers...|          Sports|          5|            0|          0|   N|                Y|          Five Stars|             Love it| 2015-08-31|\n",
      "|         US|   37993909|R3H9543FWBWFBU|B001CSIRQ8|     652431165|Isokinetics Inc. ...|          Sports|          5|            1|          1|   N|                Y|can't wait to use it|Unfortunately I h...| 2015-08-31|\n",
      "|         US|   26040213| RUANXOQ9W3OU5|B001KZ3NOO|     635861713|Aottop Quality El...|          Sports|          5|            0|          0|   N|                Y|great product, ac...|fast shipping , g...| 2015-08-31|\n",
      "|         US|   34657602|R31673RTGEZSW7|B00005RCQS|      72099763|Everlast 2'x6' Fo...|          Sports|          5|            2|          2|   N|                Y|this mat is a pre...|If you have a ter...| 2015-08-31|\n",
      "|         US|   14346192|R22OQLFSH42RCM|B00FA7RWVI|     757354022|OGIO Men's Shredd...|          Sports|          5|            1|          1|   N|                Y|  Versatile Golf Bag|Love this golf ba...| 2015-08-31|\n",
      "|         US|   38782687|R12LEL4F3TSZUJ|B000MMH2HU|     272402599|Blue Sea Systems ...|          Sports|          5|            2|          2|   N|                Y|Great AC Main Bre...|Perfect mounting ...| 2015-08-31|\n",
      "|         US|   27138575|R2L9XWD03072NI|B00WJOATDS|     375070208|Zengi AR15 45 Deg...|          Sports|          5|            1|          2|   N|                Y|   Nice, some quirks|For the cost you ...| 2015-08-31|\n",
      "|         US|   11838771|R2K0U91HIACANO|B00BOM2JNY|     639666785|Black Mountain Pr...|          Sports|          5|            0|          0|   N|                N|55 cm - Good qual...|The ball is very ...| 2015-08-31|\n",
      "|         US|     535800|R29SP6MBT7MXG7|B00OD5GAFM|      38715442|Trijicon VCOG 1-6...|          Sports|          4|            3|          3|   N|                Y|    Very nice scope.|Very nice scope.....| 2015-08-31|\n",
      "|         US|   23156579|R31XREAAMATEPY|B00CAHDC1K|      57088652|Naruto Headband f...|          Sports|          5|            0|          0|   N|                Y|was for my son an...|           This item| 2015-08-31|\n",
      "|         US|   48107879|R2116AVB87SO38|B004NLHXLG|     114125984|Under Armour Men'...|          Sports|          5|            0|          0|   N|                Y|          Five Stars|greatest socks i ...| 2015-08-31|\n",
      "|         US|   27260960|R3RDVBB6O0X3HW|B00L7OANWI|     883962979|Yes4All Deep Tiss...|          Sports|          5|            0|          0|   N|                Y|          Five Stars|Perfect for home ...| 2015-08-31|\n",
      "|         US|   39537314|R3LW5T149LKKQM|B0085PPSIQ|     691479969|Lansky PS-MED01 B...|          Sports|          4|            0|          0|   N|                Y|A bit heavy for p...|Very good product...| 2015-08-31|\n",
      "+-----------+-----------+--------------+----------+--------------+--------------------+----------------+-----------+-------------+-----------+----+-----------------+--------------------+--------------------+-----------+\n",
      "only showing top 20 rows\n",
      "\n"
     ]
    }
   ],
   "source": [
    "from pyspark.sql.functions import to_date\n",
    "# Read in the Review dataset as a DataFrame\n",
    "reviews_df = df.dropna()\n",
    "reviews_df.show()"
   ]
  },
  {
   "cell_type": "code",
   "execution_count": 6,
   "metadata": {
    "colab": {
     "base_uri": "https://localhost:8080/"
    },
    "id": "9UG9qyjYhLU6",
    "outputId": "48d35daf-6c9c-470e-9ba4-effdd85f40b7"
   },
   "outputs": [
    {
     "name": "stdout",
     "output_type": "stream",
     "text": [
      "+--------------+-----------+-------------+-----------+----+-----------------+\n",
      "|     review_id|star_rating|helpful_votes|total_votes|vine|verified_purchase|\n",
      "+--------------+-----------+-------------+-----------+----+-----------------+\n",
      "|R1WBPB8MDCCN8F|          5|            0|          0|   N|                N|\n",
      "|R32M0YEWV77XG8|          5|            1|          1|   N|                Y|\n",
      "| RR8V7WR27NXJ5|          1|            0|          0|   N|                Y|\n",
      "|R1MHO5V9Z932AY|          5|            0|          0|   N|                Y|\n",
      "|R16PD71086BD2V|          5|            0|          1|   N|                N|\n",
      "|R1Z8IFGWTRWXT6|          3|            0|          0|   N|                Y|\n",
      "|R3AUMSHAW73HWN|          4|            2|          3|   N|                N|\n",
      "|R2KWDWFOHGX6FL|          5|            0|          0|   N|                Y|\n",
      "|R3H9543FWBWFBU|          5|            1|          1|   N|                Y|\n",
      "| RUANXOQ9W3OU5|          5|            0|          0|   N|                Y|\n",
      "|R31673RTGEZSW7|          5|            2|          2|   N|                Y|\n",
      "|R22OQLFSH42RCM|          5|            1|          1|   N|                Y|\n",
      "|R12LEL4F3TSZUJ|          5|            2|          2|   N|                Y|\n",
      "|R2L9XWD03072NI|          5|            1|          2|   N|                Y|\n",
      "|R2K0U91HIACANO|          5|            0|          0|   N|                N|\n",
      "|R29SP6MBT7MXG7|          4|            3|          3|   N|                Y|\n",
      "|R31XREAAMATEPY|          5|            0|          0|   N|                Y|\n",
      "|R2116AVB87SO38|          5|            0|          0|   N|                Y|\n",
      "|R3RDVBB6O0X3HW|          5|            0|          0|   N|                Y|\n",
      "|R3LW5T149LKKQM|          4|            0|          0|   N|                Y|\n",
      "+--------------+-----------+-------------+-----------+----+-----------------+\n",
      "only showing top 20 rows\n",
      "\n"
     ]
    }
   ],
   "source": [
    "vine_df = reviews_df.select([\"review_id\",\"star_rating\",\"helpful_votes\",\"total_votes\",\"vine\",\"verified_purchase\"])\n",
    "vine_df.show()"
   ]
  },
  {
   "cell_type": "code",
   "execution_count": 7,
   "metadata": {
    "colab": {
     "base_uri": "https://localhost:8080/"
    },
    "id": "P2U4OtHihOD0",
    "outputId": "07a87776-127f-4953-c321-3785e3b5c78c"
   },
   "outputs": [
    {
     "name": "stdout",
     "output_type": "stream",
     "text": [
      "+--------------+-----------+-------------+-----------+----+-----------------+\n",
      "|     review_id|star_rating|helpful_votes|total_votes|vine|verified_purchase|\n",
      "+--------------+-----------+-------------+-----------+----+-----------------+\n",
      "|R1B4753QMTD8ON|          5|           32|         32|   N|                N|\n",
      "|R28BVHOEL6GCHZ|          5|           21|         21|   N|                Y|\n",
      "|R27IB4BRKO71I0|          2|           16|         20|   N|                Y|\n",
      "| RJ86OW12Y4NRL|          5|          124|        128|   N|                Y|\n",
      "|R3KRABOWCH6ZE4|          1|           48|         65|   N|                Y|\n",
      "|R1OAKARA30DIWX|          4|           83|         89|   N|                Y|\n",
      "|R36LSV4WQ4VB1K|          5|           17|         22|   N|                N|\n",
      "|R18BTOE5UGN7UA|          5|           26|         28|   N|                Y|\n",
      "|R1DXLGDSK2WMLD|          4|           22|         22|   N|                N|\n",
      "| RZG2OHQ12YYZI|          5|           30|         31|   N|                Y|\n",
      "|R1ZPBQCT4DYE4Z|          1|           45|         51|   N|                Y|\n",
      "|R16KLPJUNC9GS7|          5|           20|         21|   N|                Y|\n",
      "|R3Q0414UJO4BDO|          1|           23|         28|   N|                Y|\n",
      "| RDHDT1Z4R8IOF|          1|           18|         20|   N|                Y|\n",
      "|R10BO7KWZNBGL1|          4|           23|         24|   N|                Y|\n",
      "|R1H6DQ1UXL6K8U|          5|           86|         97|   N|                N|\n",
      "|R32OMS1LSDRCOB|          4|           27|         31|   Y|                N|\n",
      "|R1ABJ5P5XAZ9AW|          5|          174|        187|   N|                N|\n",
      "|R2RRFZ2YFSJ2OF|          5|           27|         27|   N|                Y|\n",
      "|R19G3LWRFBHDX3|          1|            4|         42|   N|                Y|\n",
      "+--------------+-----------+-------------+-----------+----+-----------------+\n",
      "only showing top 20 rows\n",
      "\n"
     ]
    }
   ],
   "source": [
    "# Filter Vine df over 20 votes\n",
    "vine_filtered_df = vine_df.filter(\"total_votes>=20\")\n",
    "vine_filtered_df.show()"
   ]
  },
  {
   "cell_type": "code",
   "execution_count": 8,
   "metadata": {
    "colab": {
     "base_uri": "https://localhost:8080/"
    },
    "id": "lLl6DFDlhbXW",
    "outputId": "6b2886ea-2bb7-4af9-ff70-6cebe66d7a34"
   },
   "outputs": [
    {
     "name": "stdout",
     "output_type": "stream",
     "text": [
      "+--------------+-----------+-------------+-----------+----+-----------------+\n",
      "|     review_id|star_rating|helpful_votes|total_votes|vine|verified_purchase|\n",
      "+--------------+-----------+-------------+-----------+----+-----------------+\n",
      "|R1B4753QMTD8ON|          5|           32|         32|   N|                N|\n",
      "|R28BVHOEL6GCHZ|          5|           21|         21|   N|                Y|\n",
      "|R27IB4BRKO71I0|          2|           16|         20|   N|                Y|\n",
      "| RJ86OW12Y4NRL|          5|          124|        128|   N|                Y|\n",
      "|R3KRABOWCH6ZE4|          1|           48|         65|   N|                Y|\n",
      "|R1OAKARA30DIWX|          4|           83|         89|   N|                Y|\n",
      "|R36LSV4WQ4VB1K|          5|           17|         22|   N|                N|\n",
      "|R18BTOE5UGN7UA|          5|           26|         28|   N|                Y|\n",
      "|R1DXLGDSK2WMLD|          4|           22|         22|   N|                N|\n",
      "| RZG2OHQ12YYZI|          5|           30|         31|   N|                Y|\n",
      "|R1ZPBQCT4DYE4Z|          1|           45|         51|   N|                Y|\n",
      "|R16KLPJUNC9GS7|          5|           20|         21|   N|                Y|\n",
      "|R3Q0414UJO4BDO|          1|           23|         28|   N|                Y|\n",
      "| RDHDT1Z4R8IOF|          1|           18|         20|   N|                Y|\n",
      "|R10BO7KWZNBGL1|          4|           23|         24|   N|                Y|\n",
      "|R1H6DQ1UXL6K8U|          5|           86|         97|   N|                N|\n",
      "|R32OMS1LSDRCOB|          4|           27|         31|   Y|                N|\n",
      "|R1ABJ5P5XAZ9AW|          5|          174|        187|   N|                N|\n",
      "|R2RRFZ2YFSJ2OF|          5|           27|         27|   N|                Y|\n",
      "| RJ0T139KDORXP|          5|           23|         24|   N|                Y|\n",
      "+--------------+-----------+-------------+-----------+----+-----------------+\n",
      "only showing top 20 rows\n",
      "\n"
     ]
    }
   ],
   "source": [
    "# Filter where helpful votes ar greater then 50%\n",
    "vine_helpful_total_df = vine_filtered_df.filter(\"(helpful_votes/total_votes)>=0.5\")\n",
    "vine_helpful_total_df.show()"
   ]
  },
  {
   "cell_type": "code",
   "execution_count": 9,
   "metadata": {
    "colab": {
     "base_uri": "https://localhost:8080/"
    },
    "id": "FBpWSiXBhiXn",
    "outputId": "741ec44a-a626-43da-ea6b-24fa962134e6"
   },
   "outputs": [
    {
     "name": "stdout",
     "output_type": "stream",
     "text": [
      "+--------------+-----------+-------------+-----------+----+-----------------+\n",
      "|     review_id|star_rating|helpful_votes|total_votes|vine|verified_purchase|\n",
      "+--------------+-----------+-------------+-----------+----+-----------------+\n",
      "|R32OMS1LSDRCOB|          4|           27|         31|   Y|                N|\n",
      "|R2IPKK4I0XRCFR|          4|           16|         21|   Y|                N|\n",
      "| RXYYJ8SGI9IX6|          5|           36|         41|   Y|                N|\n",
      "|R1SAUBFC7T6JHC|          5|           73|         75|   Y|                N|\n",
      "|R329HVJKKHWSG3|          5|           59|         59|   Y|                N|\n",
      "| RZL21K50M52KW|          5|           22|         22|   Y|                N|\n",
      "|R24RC5J2D92SBE|          5|           19|         20|   Y|                N|\n",
      "|R1803HITBY7Y08|          4|           92|        104|   Y|                N|\n",
      "|R1888B8Z6QWYZ4|          4|           18|         25|   Y|                N|\n",
      "|R1S538NK2I5PRL|          5|           21|         22|   Y|                N|\n",
      "| RZDTBIS1289HJ|          5|           26|         28|   Y|                N|\n",
      "|R1MWLO2PFODMQ3|          5|           31|         32|   Y|                N|\n",
      "|R3O6EMC0ISQY92|          4|           25|         27|   Y|                N|\n",
      "|R1OGJY9TSNXXX3|          5|           19|         22|   Y|                N|\n",
      "| R3AOPWQNKJ6VE|          5|           25|         29|   Y|                N|\n",
      "|R1XJFRM9ANTVSZ|          4|           44|         46|   Y|                N|\n",
      "|R1VDF41NJMDGBT|          2|           23|         29|   Y|                N|\n",
      "|R2C0QDBA4NEEKD|          3|          173|        200|   Y|                N|\n",
      "|R3TUMV5DZL433H|          4|           29|         38|   Y|                N|\n",
      "| RVU1EA54INF9T|          5|           19|         21|   Y|                N|\n",
      "+--------------+-----------+-------------+-----------+----+-----------------+\n",
      "only showing top 20 rows\n",
      "\n"
     ]
    }
   ],
   "source": [
    "# Filter for reviews as part of vine program\n",
    "paid_helpful_df = vine_helpful_total_df.filter(\"vine == 'Y'\")\n",
    "paid_helpful_df.show()"
   ]
  },
  {
   "cell_type": "code",
   "execution_count": 11,
   "metadata": {
    "colab": {
     "base_uri": "https://localhost:8080/"
    },
    "id": "qU2YTFHKh3_O",
    "outputId": "d4955083-87b6-4d38-8619-218f7447c970"
   },
   "outputs": [
    {
     "name": "stdout",
     "output_type": "stream",
     "text": [
      "+--------------+-----------+-------------+-----------+----+-----------------+\n",
      "|     review_id|star_rating|helpful_votes|total_votes|vine|verified_purchase|\n",
      "+--------------+-----------+-------------+-----------+----+-----------------+\n",
      "|R1B4753QMTD8ON|          5|           32|         32|   N|                N|\n",
      "|R28BVHOEL6GCHZ|          5|           21|         21|   N|                Y|\n",
      "|R27IB4BRKO71I0|          2|           16|         20|   N|                Y|\n",
      "| RJ86OW12Y4NRL|          5|          124|        128|   N|                Y|\n",
      "|R3KRABOWCH6ZE4|          1|           48|         65|   N|                Y|\n",
      "|R1OAKARA30DIWX|          4|           83|         89|   N|                Y|\n",
      "|R36LSV4WQ4VB1K|          5|           17|         22|   N|                N|\n",
      "|R18BTOE5UGN7UA|          5|           26|         28|   N|                Y|\n",
      "|R1DXLGDSK2WMLD|          4|           22|         22|   N|                N|\n",
      "| RZG2OHQ12YYZI|          5|           30|         31|   N|                Y|\n",
      "|R1ZPBQCT4DYE4Z|          1|           45|         51|   N|                Y|\n",
      "|R16KLPJUNC9GS7|          5|           20|         21|   N|                Y|\n",
      "|R3Q0414UJO4BDO|          1|           23|         28|   N|                Y|\n",
      "| RDHDT1Z4R8IOF|          1|           18|         20|   N|                Y|\n",
      "|R10BO7KWZNBGL1|          4|           23|         24|   N|                Y|\n",
      "|R1H6DQ1UXL6K8U|          5|           86|         97|   N|                N|\n",
      "|R1ABJ5P5XAZ9AW|          5|          174|        187|   N|                N|\n",
      "|R2RRFZ2YFSJ2OF|          5|           27|         27|   N|                Y|\n",
      "| RJ0T139KDORXP|          5|           23|         24|   N|                Y|\n",
      "|R30MVK7HP2DW91|          5|           84|        124|   N|                Y|\n",
      "+--------------+-----------+-------------+-----------+----+-----------------+\n",
      "only showing top 20 rows\n",
      "\n"
     ]
    }
   ],
   "source": [
    "# Filter for non vine reviews\n",
    "unpaid_helpful_df = vine_helpful_total_df.filter(\"vine == 'N'\")\n",
    "unpaid_helpful_df.show()"
   ]
  },
  {
   "cell_type": "code",
   "execution_count": 15,
   "metadata": {
    "colab": {
     "base_uri": "https://localhost:8080/"
    },
    "id": "D99rBUpGiOp5",
    "outputId": "ff1da89e-7e6c-401a-fca4-762e9a90bf35"
   },
   "outputs": [
    {
     "data": {
      "text/plain": [
       "61923"
      ]
     },
     "execution_count": 15,
     "metadata": {},
     "output_type": "execute_result"
    }
   ],
   "source": [
    "# Number of reviews\n",
    "total_reviews = vine_helpful_total_df.count()\n",
    "total_reviews"
   ]
  },
  {
   "cell_type": "code",
   "execution_count": 16,
   "metadata": {
    "colab": {
     "base_uri": "https://localhost:8080/"
    },
    "id": "9krgDq86jPWg",
    "outputId": "c0dc1816-0db9-4ece-8809-0341f6999807"
   },
   "outputs": [
    {
     "data": {
      "text/plain": [
       "334"
      ]
     },
     "execution_count": 16,
     "metadata": {},
     "output_type": "execute_result"
    }
   ],
   "source": [
    "# Count of paid reviews\n",
    "paid_reviews_df = vine_helpful_total_df.filter(\"vine =='Y'\")\n",
    "paid_reviews_ct = paid_reviews_df.count()\n",
    "paid_reviews_ct"
   ]
  },
  {
   "cell_type": "code",
   "execution_count": 17,
   "metadata": {
    "colab": {
     "base_uri": "https://localhost:8080/"
    },
    "id": "T5YtHR-yjt3y",
    "outputId": "87c29b51-33fc-40fe-91a2-bfa0081c3429"
   },
   "outputs": [
    {
     "data": {
      "text/plain": [
       "61589"
      ]
     },
     "execution_count": 17,
     "metadata": {},
     "output_type": "execute_result"
    }
   ],
   "source": [
    "# Count unpaid reviews\n",
    "unpaid_reviews_df = vine_helpful_total_df.filter(\"vine =='N'\")\n",
    "unpaid_reviews_ct = unpaid_reviews_df.count()\n",
    "unpaid_reviews_ct"
   ]
  },
  {
   "cell_type": "code",
   "execution_count": 18,
   "metadata": {
    "colab": {
     "base_uri": "https://localhost:8080/"
    },
    "id": "pAJLCtOHj4eO",
    "outputId": "60f37cec-7ce4-4544-db97-19a5971cee53"
   },
   "outputs": [
    {
     "data": {
      "text/plain": [
       "32799"
      ]
     },
     "execution_count": 18,
     "metadata": {},
     "output_type": "execute_result"
    }
   ],
   "source": [
    "# Count five-star reviews\n",
    "five_star_reviews_df = vine_helpful_total_df.filter(\"star_rating == 5\")\n",
    "five_star_reviews_ct = five_star_reviews_df.count()\n",
    "five_star_reviews_ct"
   ]
  },
  {
   "cell_type": "code",
   "execution_count": 19,
   "metadata": {
    "colab": {
     "base_uri": "https://localhost:8080/"
    },
    "id": "FiOiBkspkEDc",
    "outputId": "71f59fee-a097-4b81-eccf-d13c03e91921"
   },
   "outputs": [
    {
     "data": {
      "text/plain": [
       "139"
      ]
     },
     "execution_count": 19,
     "metadata": {},
     "output_type": "execute_result"
    }
   ],
   "source": [
    "# Count five-star paid reviews\n",
    "five_star_paid_reviews_df = paid_reviews_df.filter(\"star_rating == 5\")\n",
    "five_star_paid_reviews_ct = five_star_paid_reviews_df.count()\n",
    "five_star_paid_reviews_ct"
   ]
  },
  {
   "cell_type": "code",
   "execution_count": 20,
   "metadata": {
    "colab": {
     "base_uri": "https://localhost:8080/"
    },
    "id": "fjoRbQNTkO1r",
    "outputId": "9d526ada-13ca-441c-eb90-c69dacabaca5"
   },
   "outputs": [
    {
     "data": {
      "text/plain": [
       "28929"
      ]
     },
     "execution_count": 20,
     "metadata": {},
     "output_type": "execute_result"
    }
   ],
   "source": [
    "# Count five-star unpaid reviews\n",
    "five_star_unpaid_reviews_df = unpaid_reviews_df.filter(\"star_rating < 5\")\n",
    "five_star_unpaid_reviews_ct = five_star_unpaid_reviews_df.count()\n",
    "five_star_unpaid_reviews_ct"
   ]
  },
  {
   "cell_type": "code",
   "execution_count": 21,
   "metadata": {
    "colab": {
     "base_uri": "https://localhost:8080/"
    },
    "id": "GuAy78B7kZfp",
    "outputId": "ea13cffe-4fe0-4ad3-c1d7-24f9ad063a59"
   },
   "outputs": [
    {
     "data": {
      "text/plain": [
       "41.617"
      ]
     },
     "execution_count": 21,
     "metadata": {},
     "output_type": "execute_result"
    }
   ],
   "source": [
    "# % of Five-star paid reviews of paid\n",
    "paid_five_star_pct = (five_star_paid_reviews_ct/paid_reviews_ct)*100\n",
    "round(paid_five_star_pct, 3)"
   ]
  },
  {
   "cell_type": "code",
   "execution_count": 22,
   "metadata": {
    "colab": {
     "base_uri": "https://localhost:8080/"
    },
    "id": "thgHEIdbkupZ",
    "outputId": "68fb2f62-c137-4693-df5f-bf5ee8aa3f9a"
   },
   "outputs": [
    {
     "data": {
      "text/plain": [
       "0.424"
      ]
     },
     "execution_count": 22,
     "metadata": {},
     "output_type": "execute_result"
    }
   ],
   "source": [
    "# % of Five-star paid reviews of total five-star reviews\n",
    "paid_five_star_pct_total = (five_star_paid_reviews_ct/five_star_reviews_ct)*100\n",
    "round(paid_five_star_pct_total, 3)"
   ]
  },
  {
   "cell_type": "code",
   "execution_count": 23,
   "metadata": {
    "colab": {
     "base_uri": "https://localhost:8080/"
    },
    "id": "UEDZgBYnlX8Y",
    "outputId": "df269dc1-791c-4c62-ab2f-916dd3b404bc"
   },
   "outputs": [
    {
     "data": {
      "text/plain": [
       "46.971"
      ]
     },
     "execution_count": 23,
     "metadata": {},
     "output_type": "execute_result"
    }
   ],
   "source": [
    "# % of Five-star unpaid reviews of unpaid \n",
    "unpaid_five_star_pct = (five_star_unpaid_reviews_ct/unpaid_reviews_ct)*100\n",
    "round(unpaid_five_star_pct, 3)"
   ]
  },
  {
   "cell_type": "code",
   "execution_count": 24,
   "metadata": {
    "colab": {
     "base_uri": "https://localhost:8080/"
    },
    "id": "qim-jtm7lmot",
    "outputId": "045bb91b-2fac-477e-ef65-2252f7ceb705"
   },
   "outputs": [
    {
     "data": {
      "text/plain": [
       "88.201"
      ]
     },
     "execution_count": 24,
     "metadata": {},
     "output_type": "execute_result"
    }
   ],
   "source": [
    "# % of Five-star unpaid reviews of total five-star reviews\n",
    "unpaid_five_star_pct_total = (five_star_unpaid_reviews_ct/five_star_reviews_ct)*100\n",
    "round(unpaid_five_star_pct_total, 3)"
   ]
  }
 ],
 "metadata": {
  "colab": {
   "name": "Vine_Review_Analysis",
   "provenance": []
  },
  "kernelspec": {
   "display_name": "Python 3",
   "language": "python",
   "name": "python3"
  },
  "language_info": {
   "codemirror_mode": {
    "name": "ipython",
    "version": 3
   },
   "file_extension": ".py",
   "mimetype": "text/x-python",
   "name": "python",
   "nbconvert_exporter": "python",
   "pygments_lexer": "ipython3",
   "version": "3.7.10"
  }
 },
 "nbformat": 4,
 "nbformat_minor": 1
}
